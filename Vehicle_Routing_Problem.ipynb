{
  "nbformat": 4,
  "nbformat_minor": 0,
  "metadata": {
    "colab": {
      "provenance": []
    },
    "kernelspec": {
      "name": "python3",
      "display_name": "Python 3"
    },
    "language_info": {
      "name": "python"
    }
  },
  "cells": [
    {
      "cell_type": "code",
      "execution_count": 65,
      "metadata": {
        "id": "5puGjqHgMnx9",
        "colab": {
          "base_uri": "https://localhost:8080/"
        },
        "outputId": "cf1a7978-5f1d-4d75-9d44-597d47cf41f6"
      },
      "outputs": [
        {
          "output_type": "stream",
          "name": "stdout",
          "text": [
            "Requirement already satisfied: matplotlib in /usr/local/lib/python3.10/dist-packages (3.10.0)\n",
            "Requirement already satisfied: deap in /usr/local/lib/python3.10/dist-packages (1.4.1)\n",
            "Requirement already satisfied: contourpy>=1.0.1 in /usr/local/lib/python3.10/dist-packages (from matplotlib) (1.3.1)\n",
            "Requirement already satisfied: cycler>=0.10 in /usr/local/lib/python3.10/dist-packages (from matplotlib) (0.12.1)\n",
            "Requirement already satisfied: fonttools>=4.22.0 in /usr/local/lib/python3.10/dist-packages (from matplotlib) (4.55.3)\n",
            "Requirement already satisfied: kiwisolver>=1.3.1 in /usr/local/lib/python3.10/dist-packages (from matplotlib) (1.4.8)\n",
            "Requirement already satisfied: numpy>=1.23 in /usr/local/lib/python3.10/dist-packages (from matplotlib) (1.26.4)\n",
            "Requirement already satisfied: packaging>=20.0 in /usr/local/lib/python3.10/dist-packages (from matplotlib) (24.2)\n",
            "Requirement already satisfied: pillow>=8 in /usr/local/lib/python3.10/dist-packages (from matplotlib) (11.1.0)\n",
            "Requirement already satisfied: pyparsing>=2.3.1 in /usr/local/lib/python3.10/dist-packages (from matplotlib) (3.2.1)\n",
            "Requirement already satisfied: python-dateutil>=2.7 in /usr/local/lib/python3.10/dist-packages (from matplotlib) (2.8.2)\n",
            "Requirement already satisfied: six>=1.5 in /usr/local/lib/python3.10/dist-packages (from python-dateutil>=2.7->matplotlib) (1.17.0)\n"
          ]
        }
      ],
      "source": [
        "#TASK 1 - Install matplotlib and deap\n",
        "#       - Import all necessary libraries\n",
        "\n",
        "!pip install matplotlib deap"
      ]
    },
    {
      "cell_type": "code",
      "source": [
        "import random\n",
        "import numpy as np\n",
        "import matplotlib.pyplot as plt\n",
        "from deap import base, creator,tools, algorithms"
      ],
      "metadata": {
        "id": "i57GsSudRcKc"
      },
      "execution_count": 66,
      "outputs": []
    },
    {
      "cell_type": "code",
      "source": [
        "# TODO: Task 2 - Define the number of locations and vehicles\n",
        "\n",
        "num_locations = 10 # Define the number of locations (eg 10)\n",
        "\n",
        "locations = [(random.randint(0,100),random.randint(0,100)) for i in range(num_locations)]\n",
        "            # Create a list of tuples representing location coordinates -\n",
        "            # try to use a random number generator\n",
        "            # (x, y) could be between 0 and 100\n",
        "\n",
        "depot = [50,50] # Define the coordinates for the depot\n",
        "\n",
        "num_vehicles = 3 # Define the number of vehicles - (eg 3)\n",
        "print(locations)"
      ],
      "metadata": {
        "id": "KWk2KjnBP1Vw",
        "colab": {
          "base_uri": "https://localhost:8080/"
        },
        "outputId": "eb975bca-d3a4-4d7c-8013-9a1723750221"
      },
      "execution_count": 67,
      "outputs": [
        {
          "output_type": "stream",
          "name": "stdout",
          "text": [
            "[(87, 86), (30, 0), (41, 96), (54, 70), (17, 93), (6, 71), (6, 65), (22, 2), (92, 60), (82, 64)]\n"
          ]
        }
      ]
    },
    {
      "cell_type": "code",
      "source": [
        "# TASK 3 - Genetic Algorithm Setup\n",
        "       # - Figure out how to represent an individual OR encode an individual\n",
        "\n",
        "creator.create(\"FitnessMin\", base.Fitness,weights=(-1.0,-1.0))\n",
        "creator.create(\"Individual\", list, fitness=creator.FitnessMin)"
      ],
      "metadata": {
        "id": "nyHx3M_bUKP2"
      },
      "execution_count": 68,
      "outputs": []
    },
    {
      "cell_type": "code",
      "source": [
        "#TASK 4 - Starting with the toolbox and tools\n",
        "\n",
        "toolbox = base.Toolbox()\n",
        "toolbox.register(\"indices\", random.sample, range(num_locations), num_locations)\n",
        "toolbox.register(\"individual\", tools.initIterate,creator.Individual,toolbox.indices)\n",
        "toolbox.register(\"population\", tools.initRepeat, list, toolbox.individual)"
      ],
      "metadata": {
        "id": "fae1AHOXVAy9"
      },
      "execution_count": 69,
      "outputs": []
    },
    {
      "cell_type": "code",
      "source": [
        "#Fitness Function\n",
        "def evalVRP(individual):\n",
        "    total_distance = 0\n",
        "    distances = []  # Track distance traveled by each vehicle for balance calculation\n",
        "    # Split the list of locations among vehicles, ensuring each starts and ends at the depot\n",
        "    for i in range(num_vehicles):\n",
        "\n",
        "        vehicle_route = [depot] + [locations[individual[j]] for j in range(i, len(individual), num_vehicles)] + [depot]\n",
        "\n",
        "        # Calculate total distance traveled by this vehicle\n",
        "        vehicle_distance = sum(np.linalg.norm(np.array(vehicle_route[k+1]) - np.array(vehicle_route[k])) for k in range(len(vehicle_route)-1))\n",
        "\n",
        "        total_distance += vehicle_distance\n",
        "        distances.append(vehicle_distance)\n",
        "\n",
        "    balance_penalty = np.std(distances)  # Use standard deviation of distances as a penalty for imbalance among vehicles\n",
        "    return total_distance, balance_penalty"
      ],
      "metadata": {
        "id": "W6FyndnxZCVn"
      },
      "execution_count": 70,
      "outputs": []
    },
    {
      "cell_type": "code",
      "source": [
        "# TODO: Task 7 - Configure the genetic operators\n",
        "from deap.tools import mutShuffleIndexes\n",
        "toolbox.register(\"mate\",tools.cxPartialyMatched) # Choose and configure a crossover method)\n",
        "toolbox.register(\"mutate\",mutShuffleIndexes,indpb=0.2)# Choose and configure a mutation method)\n",
        "toolbox.register(\"select\",tools.selRoulette) # Choose and configure a selection method)\n",
        "toolbox.register(\"evaluate\",evalVRP)\n"
      ],
      "metadata": {
        "id": "0noGktVQ0Xcg"
      },
      "execution_count": 71,
      "outputs": []
    },
    {
      "cell_type": "code",
      "source": [
        "# SOLUTION - TASK 8\n",
        "def plot_routes(individual, title=\"Routes\"):\n",
        "    plt.figure()\n",
        "    # Plot locations as blue dots and the depot as a red square\n",
        "    for (x, y) in locations:\n",
        "        plt.plot(x, y, 'bo')\n",
        "    plt.plot(depot[0], depot[1], 'rs')\n",
        "\n",
        "    # Draw routes for each vehicle\n",
        "    for i in range(num_vehicles):\n",
        "        vehicle_route = [depot] + [locations[individual[j]] for j in range(i, len(individual), num_vehicles)] + [depot]\n",
        "        plt.plot(*zip(*vehicle_route), '-', 'rs')\n",
        "\n",
        "    plt.title(title)\n",
        "    plt.xlabel('X Coordinate')\n",
        "    plt.ylabel('Y Coordinate')\n",
        "    plt.show()"
      ],
      "metadata": {
        "id": "KVkVxc8IMz6t"
      },
      "execution_count": 72,
      "outputs": []
    },
    {
      "cell_type": "code",
      "source": [
        "# def main():\n",
        "#   random.seed(42)\n",
        "#   pop=toolbox.population(n=100)\n",
        "#   hof=tools.HallOfFame(1)\n",
        "#   stats=tools.Statistics(lambda ind:ind.fitness.values)\n",
        "#   stats.register(\"avg\",np.mean)\n",
        "#   stats.register(\"min\",np.min)\n",
        "#   algorithms.eaSimple(pop,toolbox,0.7,0.2,30,stats=stats,halloffame=hof)\n",
        "#   plot_routes(hof[0])\n",
        "#   return pop,stats,hof\n",
        "# if __name__==\"__main__\":\n",
        "#   main()\n",
        "\n",
        "# Running the Genetic Algorithm\n",
        "# Running the Genetic Algorithm\n",
        "def main():\n",
        "    random.seed(42)  # Seed for reproducibility\n",
        "    pop = toolbox.population(n=300)  # Generate initial population\n",
        "    hof = tools.HallOfFame(1)  # Hall of Fame to store the best individual\n",
        "\n",
        "    # Setup statistics to track\n",
        "    stats = tools.Statistics(lambda ind: ind.fitness.values)\n",
        "    stats.register(\"avg\", np.mean)\n",
        "    stats.register(\"min\", np.min)\n",
        "\n",
        "    # Run the genetic algorithm\n",
        "    algorithms.eaSimple(pop, toolbox, 0.7, 0.2, 30, stats=stats, halloffame=hof)\n",
        "\n",
        "    # Plot the best route found\n",
        "    plot_routes(hof[0], \"Optimal Route\")\n",
        "    return pop, stats, hof\n",
        "\n",
        "if __name__ == \"__main__\":\n",
        "  main()"
      ],
      "metadata": {
        "colab": {
          "base_uri": "https://localhost:8080/",
          "height": 1000
        },
        "id": "GxXF-hSQXYdJ",
        "outputId": "558d244d-abe6-420d-a949-e97973e65e43"
      },
      "execution_count": 73,
      "outputs": [
        {
          "output_type": "stream",
          "name": "stdout",
          "text": [
            "gen\tnevals\tavg    \tmin    \n",
            "0  \t300   \t373.846\t1.02466\n",
            "1  \t235   \t367.887\t1.02466\n",
            "2  \t221   \t368.616\t1.26146\n",
            "3  \t230   \t371.713\t2.43327\n",
            "4  \t236   \t371.109\t2.66076\n",
            "5  \t240   \t374.257\t2.66076\n",
            "6  \t223   \t371.709\t0.775252\n",
            "7  \t222   \t370.407\t2.04668 \n",
            "8  \t233   \t372.974\t3.09973 \n",
            "9  \t236   \t375.035\t2.28163 \n",
            "10 \t245   \t376.462\t2.90596 \n",
            "11 \t232   \t373.691\t2.90596 \n",
            "12 \t251   \t376.298\t1.6609  \n",
            "13 \t235   \t377.347\t1.6609  \n",
            "14 \t232   \t373.228\t2.2166  \n",
            "15 \t216   \t377.599\t4.51866 \n",
            "16 \t236   \t375.016\t1.65389 \n",
            "17 \t216   \t376.356\t3.40051 \n",
            "18 \t225   \t382.354\t3.13464 \n",
            "19 \t210   \t376.859\t3.81584 \n",
            "20 \t232   \t378.968\t1.05666 \n",
            "21 \t223   \t381.142\t2.32448 \n",
            "22 \t234   \t378.384\t1.5272  \n",
            "23 \t217   \t372.302\t3.21602 \n",
            "24 \t229   \t372.968\t1.56405 \n",
            "25 \t213   \t375.379\t2.91697 \n",
            "26 \t225   \t370.999\t0.92596 \n",
            "27 \t230   \t370.454\t0.92596 \n",
            "28 \t237   \t369.319\t0.283237\n",
            "29 \t229   \t375.486\t1.92103 \n",
            "30 \t244   \t376.735\t2.58981 \n"
          ]
        },
        {
          "output_type": "display_data",
          "data": {
            "text/plain": [
              "<Figure size 640x480 with 1 Axes>"
            ],
            "image/png": "[encoded data removed]"
          },
          "metadata": {}
        }
      ]
    }
  ]
}